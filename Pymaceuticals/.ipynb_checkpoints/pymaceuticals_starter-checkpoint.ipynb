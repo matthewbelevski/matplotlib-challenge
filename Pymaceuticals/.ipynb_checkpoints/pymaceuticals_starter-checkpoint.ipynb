{
 "cells": [
  {
   "cell_type": "markdown",
   "metadata": {},
   "source": [
    "## Observations and Insights "
   ]
  },
  {
   "cell_type": "markdown",
   "metadata": {},
   "source": [
    "1: Capomulin and Ramicane peformed the best. They had a lower mean, std and variance compared to the others as tumor sizes tended to reduce using these 2 drug regimens as can be seen specifically with mouse s185.\n",
    "\n",
    "2: Infubinol had one outlier due to mouse c326 only having the drug treament up to Timepoint 5.\n",
    "\n",
    "3: As the correlation is greater than 0.70 there is a positive linear relationship between weight and tumor size for the drug regimen Capomulin"
   ]
  },
  {
   "cell_type": "code",
   "execution_count": 1,
   "metadata": {},
   "outputs": [
    {
     "data": {
      "text/html": [
       "<div>\n",
       "<style scoped>\n",
       "    .dataframe tbody tr th:only-of-type {\n",
       "        vertical-align: middle;\n",
       "    }\n",
       "\n",
       "    .dataframe tbody tr th {\n",
       "        vertical-align: top;\n",
       "    }\n",
       "\n",
       "    .dataframe thead th {\n",
       "        text-align: right;\n",
       "    }\n",
       "</style>\n",
       "<table border=\"1\" class=\"dataframe\">\n",
       "  <thead>\n",
       "    <tr style=\"text-align: right;\">\n",
       "      <th></th>\n",
       "      <th>Mouse ID</th>\n",
       "      <th>Drug Regimen</th>\n",
       "      <th>Sex</th>\n",
       "      <th>Age_months</th>\n",
       "      <th>Weight (g)</th>\n",
       "      <th>Timepoint</th>\n",
       "      <th>Tumor Volume (mm3)</th>\n",
       "      <th>Metastatic Sites</th>\n",
       "    </tr>\n",
       "  </thead>\n",
       "  <tbody>\n",
       "    <tr>\n",
       "      <th>0</th>\n",
       "      <td>k403</td>\n",
       "      <td>Ramicane</td>\n",
       "      <td>Male</td>\n",
       "      <td>21</td>\n",
       "      <td>16</td>\n",
       "      <td>0</td>\n",
       "      <td>45.000000</td>\n",
       "      <td>0</td>\n",
       "    </tr>\n",
       "    <tr>\n",
       "      <th>1</th>\n",
       "      <td>k403</td>\n",
       "      <td>Ramicane</td>\n",
       "      <td>Male</td>\n",
       "      <td>21</td>\n",
       "      <td>16</td>\n",
       "      <td>5</td>\n",
       "      <td>38.825898</td>\n",
       "      <td>0</td>\n",
       "    </tr>\n",
       "    <tr>\n",
       "      <th>2</th>\n",
       "      <td>k403</td>\n",
       "      <td>Ramicane</td>\n",
       "      <td>Male</td>\n",
       "      <td>21</td>\n",
       "      <td>16</td>\n",
       "      <td>10</td>\n",
       "      <td>35.014271</td>\n",
       "      <td>1</td>\n",
       "    </tr>\n",
       "    <tr>\n",
       "      <th>3</th>\n",
       "      <td>k403</td>\n",
       "      <td>Ramicane</td>\n",
       "      <td>Male</td>\n",
       "      <td>21</td>\n",
       "      <td>16</td>\n",
       "      <td>15</td>\n",
       "      <td>34.223992</td>\n",
       "      <td>1</td>\n",
       "    </tr>\n",
       "    <tr>\n",
       "      <th>4</th>\n",
       "      <td>k403</td>\n",
       "      <td>Ramicane</td>\n",
       "      <td>Male</td>\n",
       "      <td>21</td>\n",
       "      <td>16</td>\n",
       "      <td>20</td>\n",
       "      <td>32.997729</td>\n",
       "      <td>1</td>\n",
       "    </tr>\n",
       "  </tbody>\n",
       "</table>\n",
       "</div>"
      ],
      "text/plain": [
       "  Mouse ID Drug Regimen   Sex  Age_months  Weight (g)  Timepoint  \\\n",
       "0     k403     Ramicane  Male          21          16          0   \n",
       "1     k403     Ramicane  Male          21          16          5   \n",
       "2     k403     Ramicane  Male          21          16         10   \n",
       "3     k403     Ramicane  Male          21          16         15   \n",
       "4     k403     Ramicane  Male          21          16         20   \n",
       "\n",
       "   Tumor Volume (mm3)  Metastatic Sites  \n",
       "0           45.000000                 0  \n",
       "1           38.825898                 0  \n",
       "2           35.014271                 1  \n",
       "3           34.223992                 1  \n",
       "4           32.997729                 1  "
      ]
     },
     "execution_count": 1,
     "metadata": {},
     "output_type": "execute_result"
    }
   ],
   "source": [
    "# Dependencies and Setup\n",
    "import matplotlib.pyplot as plt\n",
    "import pandas as pd\n",
    "import scipy.stats as st\n",
    "import numpy as np\n",
    "from scipy.stats import linregress\n",
    "\n",
    "# Study data files\n",
    "mouse_metadata_path = \"data/Mouse_metadata.csv\"\n",
    "study_results_path = \"data/Study_results.csv\"\n",
    "\n",
    "# Read the mouse data and the study results\n",
    "mouse_metadata = pd.read_csv(mouse_metadata_path)\n",
    "study_results = pd.read_csv(study_results_path)\n",
    "\n",
    "# Combine the data into a single dataset\n",
    "mouse_study = pd.merge(mouse_metadata, study_results, on = \"Mouse ID\", how = \"outer\")\n",
    "# Display the data table for preview\n",
    "mouse_study.head()"
   ]
  },
  {
   "cell_type": "code",
   "execution_count": 2,
   "metadata": {},
   "outputs": [],
   "source": [
    "#viewing the mouse_metadata\n",
    "#mouse_metadata.head()"
   ]
  },
  {
   "cell_type": "code",
   "execution_count": 3,
   "metadata": {},
   "outputs": [],
   "source": [
    "#viewing the study_results\n",
    "#study_results.head()"
   ]
  },
  {
   "cell_type": "code",
   "execution_count": 4,
   "metadata": {},
   "outputs": [
    {
     "data": {
      "text/plain": [
       "1893"
      ]
     },
     "execution_count": 4,
     "metadata": {},
     "output_type": "execute_result"
    }
   ],
   "source": [
    "# Checking the number of mice using the count function.\n",
    "study_results[\"Mouse ID\"].count()"
   ]
  },
  {
   "cell_type": "code",
   "execution_count": 5,
   "metadata": {},
   "outputs": [],
   "source": [
    "#study_results[\"Mouse ID\"].nunique()"
   ]
  },
  {
   "cell_type": "code",
   "execution_count": 6,
   "metadata": {},
   "outputs": [
    {
     "data": {
      "text/plain": [
       "Int64Index([909], dtype='int64')"
      ]
     },
     "execution_count": 6,
     "metadata": {},
     "output_type": "execute_result"
    }
   ],
   "source": [
    "# Getting the duplicate mice by ID number that shows up for Mouse ID and Timepoint. \n",
    "#use of the duplicate function\n",
    "duplicate = mouse_study[mouse_study.duplicated()]\n",
    "\n",
    "duplicate.index"
   ]
  },
  {
   "cell_type": "code",
   "execution_count": 7,
   "metadata": {},
   "outputs": [
    {
     "data": {
      "text/html": [
       "<div>\n",
       "<style scoped>\n",
       "    .dataframe tbody tr th:only-of-type {\n",
       "        vertical-align: middle;\n",
       "    }\n",
       "\n",
       "    .dataframe tbody tr th {\n",
       "        vertical-align: top;\n",
       "    }\n",
       "\n",
       "    .dataframe thead th {\n",
       "        text-align: right;\n",
       "    }\n",
       "</style>\n",
       "<table border=\"1\" class=\"dataframe\">\n",
       "  <thead>\n",
       "    <tr style=\"text-align: right;\">\n",
       "      <th></th>\n",
       "      <th>Mouse ID</th>\n",
       "      <th>Drug Regimen</th>\n",
       "      <th>Sex</th>\n",
       "      <th>Age_months</th>\n",
       "      <th>Weight (g)</th>\n",
       "      <th>Timepoint</th>\n",
       "      <th>Tumor Volume (mm3)</th>\n",
       "      <th>Metastatic Sites</th>\n",
       "    </tr>\n",
       "  </thead>\n",
       "  <tbody>\n",
       "    <tr>\n",
       "      <th>909</th>\n",
       "      <td>g989</td>\n",
       "      <td>Propriva</td>\n",
       "      <td>Female</td>\n",
       "      <td>21</td>\n",
       "      <td>26</td>\n",
       "      <td>0</td>\n",
       "      <td>45.0</td>\n",
       "      <td>0</td>\n",
       "    </tr>\n",
       "  </tbody>\n",
       "</table>\n",
       "</div>"
      ],
      "text/plain": [
       "    Mouse ID Drug Regimen     Sex  Age_months  Weight (g)  Timepoint  \\\n",
       "909     g989     Propriva  Female          21          26          0   \n",
       "\n",
       "     Tumor Volume (mm3)  Metastatic Sites  \n",
       "909                45.0                 0  "
      ]
     },
     "execution_count": 7,
     "metadata": {},
     "output_type": "execute_result"
    }
   ],
   "source": [
    "# Optional: Get all the data for the duplicate mouse ID. \n",
    "duplicate\n"
   ]
  },
  {
   "cell_type": "code",
   "execution_count": 8,
   "metadata": {},
   "outputs": [],
   "source": [
    "# Create a clean DataFrame by dropping the duplicate mouse by its ID.\n",
    "#use of drop function\n",
    "mouse_study_clean = mouse_study.drop(duplicate.index)"
   ]
  },
  {
   "cell_type": "code",
   "execution_count": 9,
   "metadata": {},
   "outputs": [
    {
     "data": {
      "text/plain": [
       "1892"
      ]
     },
     "execution_count": 9,
     "metadata": {},
     "output_type": "execute_result"
    }
   ],
   "source": [
    "# Checking the number of mice in the clean DataFrame.\n",
    "mouse_study_clean[\"Mouse ID\"].count()"
   ]
  },
  {
   "cell_type": "markdown",
   "metadata": {},
   "source": [
    "## Summary Statistics"
   ]
  },
  {
   "cell_type": "code",
   "execution_count": 10,
   "metadata": {},
   "outputs": [
    {
     "data": {
      "text/html": [
       "<div>\n",
       "<style scoped>\n",
       "    .dataframe tbody tr th:only-of-type {\n",
       "        vertical-align: middle;\n",
       "    }\n",
       "\n",
       "    .dataframe tbody tr th {\n",
       "        vertical-align: top;\n",
       "    }\n",
       "\n",
       "    .dataframe thead th {\n",
       "        text-align: right;\n",
       "    }\n",
       "</style>\n",
       "<table border=\"1\" class=\"dataframe\">\n",
       "  <thead>\n",
       "    <tr style=\"text-align: right;\">\n",
       "      <th></th>\n",
       "      <th>Drug Regimen</th>\n",
       "      <th>Mean</th>\n",
       "      <th>Median</th>\n",
       "      <th>Variance</th>\n",
       "      <th>Std</th>\n",
       "      <th>SEM</th>\n",
       "    </tr>\n",
       "  </thead>\n",
       "  <tbody>\n",
       "    <tr>\n",
       "      <th>0</th>\n",
       "      <td>Capomulin</td>\n",
       "      <td>40.675741</td>\n",
       "      <td>41.557809</td>\n",
       "      <td>24.839296</td>\n",
       "      <td>4.983904</td>\n",
       "      <td>0.329346</td>\n",
       "    </tr>\n",
       "    <tr>\n",
       "      <th>1</th>\n",
       "      <td>Ceftamin</td>\n",
       "      <td>52.591172</td>\n",
       "      <td>51.776157</td>\n",
       "      <td>39.069446</td>\n",
       "      <td>6.250556</td>\n",
       "      <td>0.469821</td>\n",
       "    </tr>\n",
       "    <tr>\n",
       "      <th>2</th>\n",
       "      <td>Infubinol</td>\n",
       "      <td>52.884795</td>\n",
       "      <td>51.820584</td>\n",
       "      <td>42.886388</td>\n",
       "      <td>6.548770</td>\n",
       "      <td>0.492236</td>\n",
       "    </tr>\n",
       "    <tr>\n",
       "      <th>3</th>\n",
       "      <td>Ketapril</td>\n",
       "      <td>55.235638</td>\n",
       "      <td>53.698743</td>\n",
       "      <td>68.188930</td>\n",
       "      <td>8.257659</td>\n",
       "      <td>0.603860</td>\n",
       "    </tr>\n",
       "    <tr>\n",
       "      <th>4</th>\n",
       "      <td>Naftisol</td>\n",
       "      <td>54.331565</td>\n",
       "      <td>52.509285</td>\n",
       "      <td>65.817708</td>\n",
       "      <td>8.112811</td>\n",
       "      <td>0.596466</td>\n",
       "    </tr>\n",
       "    <tr>\n",
       "      <th>5</th>\n",
       "      <td>Placebo</td>\n",
       "      <td>54.033581</td>\n",
       "      <td>52.288934</td>\n",
       "      <td>60.830138</td>\n",
       "      <td>7.799368</td>\n",
       "      <td>0.581331</td>\n",
       "    </tr>\n",
       "    <tr>\n",
       "      <th>6</th>\n",
       "      <td>Propriva</td>\n",
       "      <td>52.368318</td>\n",
       "      <td>50.909965</td>\n",
       "      <td>42.013852</td>\n",
       "      <td>6.481809</td>\n",
       "      <td>0.514041</td>\n",
       "    </tr>\n",
       "    <tr>\n",
       "      <th>7</th>\n",
       "      <td>Ramicane</td>\n",
       "      <td>40.216745</td>\n",
       "      <td>40.673236</td>\n",
       "      <td>23.383692</td>\n",
       "      <td>4.835669</td>\n",
       "      <td>0.320955</td>\n",
       "    </tr>\n",
       "    <tr>\n",
       "      <th>8</th>\n",
       "      <td>Stelasyn</td>\n",
       "      <td>54.233149</td>\n",
       "      <td>52.431737</td>\n",
       "      <td>59.122106</td>\n",
       "      <td>7.689090</td>\n",
       "      <td>0.573111</td>\n",
       "    </tr>\n",
       "    <tr>\n",
       "      <th>9</th>\n",
       "      <td>Zoniferol</td>\n",
       "      <td>53.236507</td>\n",
       "      <td>51.818479</td>\n",
       "      <td>48.266689</td>\n",
       "      <td>6.947423</td>\n",
       "      <td>0.516398</td>\n",
       "    </tr>\n",
       "  </tbody>\n",
       "</table>\n",
       "</div>"
      ],
      "text/plain": [
       "  Drug Regimen       Mean     Median   Variance       Std       SEM\n",
       "0    Capomulin  40.675741  41.557809  24.839296  4.983904  0.329346\n",
       "1     Ceftamin  52.591172  51.776157  39.069446  6.250556  0.469821\n",
       "2    Infubinol  52.884795  51.820584  42.886388  6.548770  0.492236\n",
       "3     Ketapril  55.235638  53.698743  68.188930  8.257659  0.603860\n",
       "4     Naftisol  54.331565  52.509285  65.817708  8.112811  0.596466\n",
       "5      Placebo  54.033581  52.288934  60.830138  7.799368  0.581331\n",
       "6     Propriva  52.368318  50.909965  42.013852  6.481809  0.514041\n",
       "7     Ramicane  40.216745  40.673236  23.383692  4.835669  0.320955\n",
       "8     Stelasyn  54.233149  52.431737  59.122106  7.689090  0.573111\n",
       "9    Zoniferol  53.236507  51.818479  48.266689  6.947423  0.516398"
      ]
     },
     "execution_count": 10,
     "metadata": {},
     "output_type": "execute_result"
    }
   ],
   "source": [
    "# Generate a summary statistics table of mean, median, variance, standard deviation, and SEM of the tumor volume for each regimen\n",
    "# This method is the most straighforward, creating multiple series and putting them all together at the end.\n",
    "\n",
    "#sorts the Drug Regimen names alphabetically and then finds the unique name of the drugs used in the regimen\n",
    "drug_list = mouse_study_clean[\"Drug Regimen\"].sort_values(ascending = True).unique()\n",
    "\n",
    "#creating seperate lists to store the drug name, mean, median, variance, std and sem which will then be combined later\n",
    "drug_name = []\n",
    "mean_list = []\n",
    "median_list = []\n",
    "variance_list = []\n",
    "std_list = []\n",
    "sem_list = []\n",
    "\n",
    "#use of a for loop to go through the drug_list and then use it to filter the cleaned dataframe\n",
    "\n",
    "for drug in drug_list:\n",
    "    drug_filter = mouse_study_clean[(mouse_study_clean[\"Drug Regimen\"] == drug)]\n",
    "#calculates mean    \n",
    "    mean = np.mean(drug_filter[\"Tumor Volume (mm3)\"])\n",
    "#calculates median\n",
    "    median = np.median(drug_filter[\"Tumor Volume (mm3)\"])\n",
    "#calculates variance\n",
    "    variance = np.var(drug_filter[\"Tumor Volume (mm3)\"])\n",
    "#calculates standard deviation\n",
    "    std = np.std(drug_filter[\"Tumor Volume (mm3)\"])\n",
    "#calculates the standard error of mean    \n",
    "    sem = drug_filter[\"Tumor Volume (mm3)\"].sem()\n",
    "\n",
    "#appends the variables calculated into the lists created above\n",
    "    drug_name.append(drug)\n",
    "    mean_list.append(mean)\n",
    "    median_list.append(median)\n",
    "    variance_list.append(variance)\n",
    "    std_list.append(std)\n",
    "    sem_list.append(sem)\n",
    "    \n",
    "#combines the now filled lists into a dataframe    \n",
    "summary_df = pd.DataFrame({\"Drug Regimen\" : drug_name, \"Mean\" : mean_list, \"Median\" : median_list, \"Variance\": variance_list, \"Std\" : std_list, \"SEM\": sem_list})   \n",
    "\n",
    "\n",
    "summary_df"
   ]
  },
  {
   "cell_type": "code",
   "execution_count": 11,
   "metadata": {},
   "outputs": [
    {
     "data": {
      "text/html": [
       "<div>\n",
       "<style scoped>\n",
       "    .dataframe tbody tr th:only-of-type {\n",
       "        vertical-align: middle;\n",
       "    }\n",
       "\n",
       "    .dataframe tbody tr th {\n",
       "        vertical-align: top;\n",
       "    }\n",
       "\n",
       "    .dataframe thead th {\n",
       "        text-align: right;\n",
       "    }\n",
       "</style>\n",
       "<table border=\"1\" class=\"dataframe\">\n",
       "  <thead>\n",
       "    <tr style=\"text-align: right;\">\n",
       "      <th></th>\n",
       "      <th>Mean</th>\n",
       "      <th>Median</th>\n",
       "      <th>Variance</th>\n",
       "      <th>Std</th>\n",
       "      <th>SEM</th>\n",
       "    </tr>\n",
       "    <tr>\n",
       "      <th>Drug Regimen</th>\n",
       "      <th></th>\n",
       "      <th></th>\n",
       "      <th></th>\n",
       "      <th></th>\n",
       "      <th></th>\n",
       "    </tr>\n",
       "  </thead>\n",
       "  <tbody>\n",
       "    <tr>\n",
       "      <th>Capomulin</th>\n",
       "      <td>40.675741</td>\n",
       "      <td>41.557809</td>\n",
       "      <td>24.947764</td>\n",
       "      <td>4.994774</td>\n",
       "      <td>0.329346</td>\n",
       "    </tr>\n",
       "    <tr>\n",
       "      <th>Ceftamin</th>\n",
       "      <td>52.591172</td>\n",
       "      <td>51.776157</td>\n",
       "      <td>39.290177</td>\n",
       "      <td>6.268188</td>\n",
       "      <td>0.469821</td>\n",
       "    </tr>\n",
       "    <tr>\n",
       "      <th>Infubinol</th>\n",
       "      <td>52.884795</td>\n",
       "      <td>51.820584</td>\n",
       "      <td>43.128684</td>\n",
       "      <td>6.567243</td>\n",
       "      <td>0.492236</td>\n",
       "    </tr>\n",
       "    <tr>\n",
       "      <th>Ketapril</th>\n",
       "      <td>55.235638</td>\n",
       "      <td>53.698743</td>\n",
       "      <td>68.553577</td>\n",
       "      <td>8.279709</td>\n",
       "      <td>0.603860</td>\n",
       "    </tr>\n",
       "    <tr>\n",
       "      <th>Naftisol</th>\n",
       "      <td>54.331565</td>\n",
       "      <td>52.509285</td>\n",
       "      <td>66.173479</td>\n",
       "      <td>8.134708</td>\n",
       "      <td>0.596466</td>\n",
       "    </tr>\n",
       "    <tr>\n",
       "      <th>Placebo</th>\n",
       "      <td>54.033581</td>\n",
       "      <td>52.288934</td>\n",
       "      <td>61.168083</td>\n",
       "      <td>7.821003</td>\n",
       "      <td>0.581331</td>\n",
       "    </tr>\n",
       "    <tr>\n",
       "      <th>Propriva</th>\n",
       "      <td>52.368318</td>\n",
       "      <td>50.909965</td>\n",
       "      <td>42.278090</td>\n",
       "      <td>6.502160</td>\n",
       "      <td>0.514041</td>\n",
       "    </tr>\n",
       "    <tr>\n",
       "      <th>Ramicane</th>\n",
       "      <td>40.216745</td>\n",
       "      <td>40.673236</td>\n",
       "      <td>23.486704</td>\n",
       "      <td>4.846308</td>\n",
       "      <td>0.320955</td>\n",
       "    </tr>\n",
       "    <tr>\n",
       "      <th>Stelasyn</th>\n",
       "      <td>54.233149</td>\n",
       "      <td>52.431737</td>\n",
       "      <td>59.450562</td>\n",
       "      <td>7.710419</td>\n",
       "      <td>0.573111</td>\n",
       "    </tr>\n",
       "    <tr>\n",
       "      <th>Zoniferol</th>\n",
       "      <td>53.236507</td>\n",
       "      <td>51.818479</td>\n",
       "      <td>48.533355</td>\n",
       "      <td>6.966589</td>\n",
       "      <td>0.516398</td>\n",
       "    </tr>\n",
       "  </tbody>\n",
       "</table>\n",
       "</div>"
      ],
      "text/plain": [
       "                   Mean     Median   Variance       Std       SEM\n",
       "Drug Regimen                                                     \n",
       "Capomulin     40.675741  41.557809  24.947764  4.994774  0.329346\n",
       "Ceftamin      52.591172  51.776157  39.290177  6.268188  0.469821\n",
       "Infubinol     52.884795  51.820584  43.128684  6.567243  0.492236\n",
       "Ketapril      55.235638  53.698743  68.553577  8.279709  0.603860\n",
       "Naftisol      54.331565  52.509285  66.173479  8.134708  0.596466\n",
       "Placebo       54.033581  52.288934  61.168083  7.821003  0.581331\n",
       "Propriva      52.368318  50.909965  42.278090  6.502160  0.514041\n",
       "Ramicane      40.216745  40.673236  23.486704  4.846308  0.320955\n",
       "Stelasyn      54.233149  52.431737  59.450562  7.710419  0.573111\n",
       "Zoniferol     53.236507  51.818479  48.533355  6.966589  0.516398"
      ]
     },
     "execution_count": 11,
     "metadata": {},
     "output_type": "execute_result"
    }
   ],
   "source": [
    "# Generate a summary statistics table of mean, median, variance, standard deviation, and SEM of the tumor volume for each regimen\n",
    "\n",
    "# This method produces everything in a single groupby function\n",
    "\n",
    "#use of grouby and aggregiate function to find the required summary statistics\n",
    "mouse_study_stats = mouse_study_clean.groupby(\"Drug Regimen\").agg({\"Tumor Volume (mm3)\" : [\"mean\", \"median\", \"var\", \"std\", \"sem\"]})\n",
    "\n",
    "#rename columns to look a bit nicer \n",
    "mouse_study_stats.columns = [\"Mean\", \"Median\", \"Variance\", \"Std\", \"SEM\"]\n",
    "\n",
    "mouse_study_stats\n"
   ]
  },
  {
   "cell_type": "markdown",
   "metadata": {},
   "source": [
    "## Bar and Pie Charts"
   ]
  },
  {
   "cell_type": "code",
   "execution_count": 12,
   "metadata": {},
   "outputs": [],
   "source": [
    "#creating the dataframe for the unique number of mice per drug regimen\n",
    "#groups the mouse_study_clean by Drug Regimen and finds the unique number of mice per drug regimen using the Mouse ID column\n",
    "drug_reg_group = mouse_study_clean.groupby(\"Drug Regimen\").agg({\"Mouse ID\" : \"nunique\"})\n",
    "#renames column Mouse ID to count\n",
    "drug_reg_group.columns = [\"Count\"]\n",
    "#reset the index to make it look like a traditional dataframe (which isn)\n",
    "drug_reg_group_final = drug_reg_group.reset_index()"
   ]
  },
  {
   "cell_type": "code",
   "execution_count": 13,
   "metadata": {},
   "outputs": [
    {
     "data": {
      "text/plain": [
       "Text(0.5, 1.0, 'Number of mice per Drug Regimen')"
      ]
     },
     "execution_count": 13,
     "metadata": {},
     "output_type": "execute_result"
    },
    {
     "data": {
      "image/png": "[encoded data removed]",
      "text/plain": [
       "<Figure size 432x288 with 1 Axes>"
      ]
     },
     "metadata": {
      "needs_background": "light"
     },
     "output_type": "display_data"
    }
   ],
   "source": [
    "# Generate a bar plot showing the total number of mice for each treatment throughout the course of the study using pandas. \n",
    "\n",
    "#using pandas to plot from the drug_reg_group dataframe created above and set the width and colour\n",
    "drug_reg_g_bar = drug_reg_group.plot(kind = \"bar\", width = 0.7, color = \"orange\", legend = False)\n",
    "#sets the x and y limits (size)\n",
    "drug_reg_g_bar.set_xlim(-0.75, 9.75)\n",
    "drug_reg_g_bar.set_ylim(0, 30)\n",
    "#sets the x and y label and the title\n",
    "drug_reg_g_bar.set_ylabel(\"Number of mice\")\n",
    "drug_reg_g_bar.set_xlabel(\"Drug Regimen\")\n",
    "drug_reg_g_bar.set_title(\"Number of mice per Drug Regimen\")"
   ]
  },
  {
   "cell_type": "code",
   "execution_count": 14,
   "metadata": {},
   "outputs": [
    {
     "data": {
      "text/plain": [
       "<function matplotlib.pyplot.tight_layout(pad=1.08, h_pad=None, w_pad=None, rect=None)>"
      ]
     },
     "execution_count": 14,
     "metadata": {},
     "output_type": "execute_result"
    },
    {
     "data": {
      "image/png": "[encoded data removed]",
      "text/plain": [
       "<Figure size 432x288 with 1 Axes>"
      ]
     },
     "metadata": {
      "needs_background": "light"
     },
     "output_type": "display_data"
    }
   ],
   "source": [
    "# Generate a bar plot showing the total number of mice for each treatment throughout the course of the study using pyplot.\n",
    "\n",
    "#collects the counts from the drug_reg_group for each drug regimen\n",
    "drug_regimen_count = drug_reg_group[\"Count\"]\n",
    "\n",
    "#collects the drug regimen names from index in the grouped data frame\n",
    "drug_regimen = drug_reg_group.index\n",
    "\n",
    "#sets the axis to be the length of the amount of names collected in drug_regimen\n",
    "x_axis = np.arange(len(drug_regimen))\n",
    "\n",
    "#determins the tick locations by finding the values within the x axis\n",
    "tick_locations = [value for value in x_axis]\n",
    "\n",
    "#sets the ticks using the tick_locations found and the names in drug_regiment\n",
    "plt.xticks(tick_locations, drug_regimen, rotation = 90)\n",
    "\n",
    "#plots the bar graph\n",
    "plt.bar(x_axis, drug_regimen_count, align=\"center\", width = 0.7, color = \"orange\")\n",
    "\n",
    "#sets the title, x and labels and the x and y limits\n",
    "plt.title(\"Number of mice per Drug Regimen\")\n",
    "plt.xlabel(\"Drug Regimen\")\n",
    "plt.ylabel(\"Number of mice\")\n",
    "plt.xlim(-0.75, len(x_axis)-0.25)\n",
    "plt.ylim(0, 30)\n",
    "plt.tight_layout"
   ]
  },
  {
   "cell_type": "code",
   "execution_count": 15,
   "metadata": {},
   "outputs": [],
   "source": [
    "#creating the dataframe for the unique number of mice per gender\n",
    "\n",
    "#groups mouse_clean study by sex and finds the unique counts with the Mouse ID column\n",
    "gender_group = mouse_study_clean.groupby(\"Sex\").agg({\"Mouse ID\" : \"nunique\"})\n",
    "\n",
    "#renames Mouse ID column to count\n",
    "gender_group.columns = [\"Count\"]\n",
    "\n",
    "#reset the dataframe index\n",
    "gender_group_clean = gender_group.reset_index()"
   ]
  },
  {
   "cell_type": "code",
   "execution_count": 16,
   "metadata": {},
   "outputs": [
    {
     "data": {
      "text/plain": [
       "(-1.1542674867807106, 1.103434680024809, -1.101678845528055, 1.10041038197642)"
      ]
     },
     "execution_count": 16,
     "metadata": {},
     "output_type": "execute_result"
    },
    {
     "data": {
      "image/png": "[encoded data removed]",
      "text/plain": [
       "<Figure size 432x288 with 1 Axes>"
      ]
     },
     "metadata": {},
     "output_type": "display_data"
    }
   ],
   "source": [
    "# Generate a pie plot showing the distribution of female versus male mice using pandas\n",
    "\n",
    "#creates a new dataframe of mouse_study_clean grouped by sex\n",
    "\n",
    "#sets it so one section of the pie will stand out (explode), in this case the one on the left\n",
    "explode = (0.05,0)\n",
    "\n",
    "#put colours in list to be used for setting the colours\n",
    "colors = [\"tab:orange\", \"tab:blue\"]\n",
    "\n",
    "#plots the pie chart by counting the genders, sorts it so the largest one is first and will go on the left due to the statangle\n",
    "\n",
    "gender_group_clean_plot = gender_group[\"Count\"].plot(kind = \"pie\", startangle = 90, autopct=\"%1.1f%%\", shadow = True,\n",
    "                                                                                          colors = colors, explode = explode)\n",
    "#plots the title and makes the equalises the axis\n",
    "plt.title(\"Mice Gender Breakdown\")\n",
    "plt.legend(gender_group[\"Count\"])\n",
    "plt.axis(\"equal\")"
   ]
  },
  {
   "cell_type": "code",
   "execution_count": 17,
   "metadata": {},
   "outputs": [
    {
     "data": {
      "text/plain": [
       "Text(0, 0.5, 'Sex')"
      ]
     },
     "execution_count": 17,
     "metadata": {},
     "output_type": "execute_result"
    },
    {
     "data": {
      "image/png": "[encoded data removed]",
      "text/plain": [
       "<Figure size 432x288 with 1 Axes>"
      ]
     },
     "metadata": {},
     "output_type": "display_data"
    }
   ],
   "source": [
    "# Generate a pie plot showing the distribution of female versus male mice using pyplot\n",
    "\n",
    "#counts the genders \n",
    "gender_count = gender_group[\"Count\"]\n",
    "\n",
    "#uses the index of the gender_group to find the names for labels\n",
    "labels = gender_group.index\n",
    "\n",
    "#put colours in list to be used for setting the colours\n",
    "colors = [\"tab:orange\", \"tab:blue\"]\n",
    "\n",
    "#sets it so one section of the pie will stand out (explode), in this case the one on the left\n",
    "explode = (0.05,0)\n",
    "\n",
    "#plots the pie graph, using the labels and colors lists and sets the format of the values\n",
    "plt.pie(gender_count, labels=labels, colors = colors, explode=explode,\n",
    "        autopct = \"%1.1f%%\", shadow=True, startangle=90)\n",
    "\n",
    "\n",
    "plt.axis(\"equal\")\n",
    "plt.title(\"Mice Gender Breakdown\")\n",
    "plt.legend(gender_group[\"Count\"])\n",
    "plt.ylabel(\"Sex\")"
   ]
  },
  {
   "cell_type": "code",
   "execution_count": null,
   "metadata": {},
   "outputs": [],
   "source": []
  },
  {
   "cell_type": "code",
   "execution_count": 18,
   "metadata": {},
   "outputs": [
    {
     "data": {
      "text/html": [
       "<div>\n",
       "<style scoped>\n",
       "    .dataframe tbody tr th:only-of-type {\n",
       "        vertical-align: middle;\n",
       "    }\n",
       "\n",
       "    .dataframe tbody tr th {\n",
       "        vertical-align: top;\n",
       "    }\n",
       "\n",
       "    .dataframe thead th {\n",
       "        text-align: right;\n",
       "    }\n",
       "</style>\n",
       "<table border=\"1\" class=\"dataframe\">\n",
       "  <thead>\n",
       "    <tr style=\"text-align: right;\">\n",
       "      <th></th>\n",
       "      <th>Mouse ID</th>\n",
       "      <th>Drug Regimen</th>\n",
       "      <th>Sex</th>\n",
       "      <th>Age_months</th>\n",
       "      <th>Weight (g)</th>\n",
       "      <th>Timepoint</th>\n",
       "      <th>Tumor Volume (mm3)</th>\n",
       "      <th>Metastatic Sites</th>\n",
       "    </tr>\n",
       "  </thead>\n",
       "  <tbody>\n",
       "    <tr>\n",
       "      <th>594</th>\n",
       "      <td>b447</td>\n",
       "      <td>Ceftamin</td>\n",
       "      <td>Male</td>\n",
       "      <td>2</td>\n",
       "      <td>30</td>\n",
       "      <td>0</td>\n",
       "      <td>45.0</td>\n",
       "      <td>0</td>\n",
       "    </tr>\n",
       "  </tbody>\n",
       "</table>\n",
       "</div>"
      ],
      "text/plain": [
       "    Mouse ID Drug Regimen   Sex  Age_months  Weight (g)  Timepoint  \\\n",
       "594     b447     Ceftamin  Male           2          30          0   \n",
       "\n",
       "     Tumor Volume (mm3)  Metastatic Sites  \n",
       "594                45.0                 0  "
      ]
     },
     "execution_count": 18,
     "metadata": {},
     "output_type": "execute_result"
    }
   ],
   "source": [
    "mouse_study_clean_search = mouse_study.loc[mouse_study[\"Mouse ID\"] == \"b447\"]\n",
    "mouse_study_clean_search"
   ]
  },
  {
   "cell_type": "markdown",
   "metadata": {},
   "source": [
    "## Quartiles, Outliers and Boxplots"
   ]
  },
  {
   "cell_type": "code",
   "execution_count": 19,
   "metadata": {},
   "outputs": [
    {
     "data": {
      "text/html": [
       "<div>\n",
       "<style scoped>\n",
       "    .dataframe tbody tr th:only-of-type {\n",
       "        vertical-align: middle;\n",
       "    }\n",
       "\n",
       "    .dataframe tbody tr th {\n",
       "        vertical-align: top;\n",
       "    }\n",
       "\n",
       "    .dataframe thead th {\n",
       "        text-align: right;\n",
       "    }\n",
       "</style>\n",
       "<table border=\"1\" class=\"dataframe\">\n",
       "  <thead>\n",
       "    <tr style=\"text-align: right;\">\n",
       "      <th></th>\n",
       "      <th>Mouse ID</th>\n",
       "      <th>Drug Regimen</th>\n",
       "      <th>Tumor Volume (mm3)</th>\n",
       "      <th>Timepoint_x</th>\n",
       "    </tr>\n",
       "  </thead>\n",
       "  <tbody>\n",
       "    <tr>\n",
       "      <th>9</th>\n",
       "      <td>k403</td>\n",
       "      <td>Ramicane</td>\n",
       "      <td>22.050126</td>\n",
       "      <td>45</td>\n",
       "    </tr>\n",
       "    <tr>\n",
       "      <th>19</th>\n",
       "      <td>s185</td>\n",
       "      <td>Capomulin</td>\n",
       "      <td>23.343598</td>\n",
       "      <td>45</td>\n",
       "    </tr>\n",
       "    <tr>\n",
       "      <th>29</th>\n",
       "      <td>x401</td>\n",
       "      <td>Capomulin</td>\n",
       "      <td>28.484033</td>\n",
       "      <td>45</td>\n",
       "    </tr>\n",
       "    <tr>\n",
       "      <th>39</th>\n",
       "      <td>m601</td>\n",
       "      <td>Capomulin</td>\n",
       "      <td>28.430964</td>\n",
       "      <td>45</td>\n",
       "    </tr>\n",
       "    <tr>\n",
       "      <th>49</th>\n",
       "      <td>g791</td>\n",
       "      <td>Ramicane</td>\n",
       "      <td>29.128472</td>\n",
       "      <td>45</td>\n",
       "    </tr>\n",
       "    <tr>\n",
       "      <th>...</th>\n",
       "      <td>...</td>\n",
       "      <td>...</td>\n",
       "      <td>...</td>\n",
       "      <td>...</td>\n",
       "    </tr>\n",
       "    <tr>\n",
       "      <th>773</th>\n",
       "      <td>x822</td>\n",
       "      <td>Ceftamin</td>\n",
       "      <td>61.386660</td>\n",
       "      <td>45</td>\n",
       "    </tr>\n",
       "    <tr>\n",
       "      <th>783</th>\n",
       "      <td>y163</td>\n",
       "      <td>Infubinol</td>\n",
       "      <td>67.685569</td>\n",
       "      <td>45</td>\n",
       "    </tr>\n",
       "    <tr>\n",
       "      <th>793</th>\n",
       "      <td>y769</td>\n",
       "      <td>Ceftamin</td>\n",
       "      <td>68.594745</td>\n",
       "      <td>45</td>\n",
       "    </tr>\n",
       "    <tr>\n",
       "      <th>803</th>\n",
       "      <td>y865</td>\n",
       "      <td>Ceftamin</td>\n",
       "      <td>64.729837</td>\n",
       "      <td>45</td>\n",
       "    </tr>\n",
       "    <tr>\n",
       "      <th>813</th>\n",
       "      <td>z581</td>\n",
       "      <td>Infubinol</td>\n",
       "      <td>62.754451</td>\n",
       "      <td>45</td>\n",
       "    </tr>\n",
       "  </tbody>\n",
       "</table>\n",
       "<p>100 rows × 4 columns</p>\n",
       "</div>"
      ],
      "text/plain": [
       "    Mouse ID Drug Regimen  Tumor Volume (mm3)  Timepoint_x\n",
       "9       k403     Ramicane           22.050126           45\n",
       "19      s185    Capomulin           23.343598           45\n",
       "29      x401    Capomulin           28.484033           45\n",
       "39      m601    Capomulin           28.430964           45\n",
       "49      g791     Ramicane           29.128472           45\n",
       "..       ...          ...                 ...          ...\n",
       "773     x822     Ceftamin           61.386660           45\n",
       "783     y163    Infubinol           67.685569           45\n",
       "793     y769     Ceftamin           68.594745           45\n",
       "803     y865     Ceftamin           64.729837           45\n",
       "813     z581    Infubinol           62.754451           45\n",
       "\n",
       "[100 rows x 4 columns]"
      ]
     },
     "execution_count": 19,
     "metadata": {},
     "output_type": "execute_result"
    }
   ],
   "source": [
    "# Calculate the final tumor volume of each mouse across four of the treatment regimens:  \n",
    "# Capomulin, Ramicane, Infubinol, and Ceftamin\n",
    "\n",
    "#filters for the 4 drug regimens we are looking\n",
    "drug_search  = mouse_study[(mouse_study[\"Drug Regimen\"] == \"Capomulin\") | \n",
    "             (mouse_study[\"Drug Regimen\"] == \"Ramicane\") |\n",
    "             (mouse_study[\"Drug Regimen\"] == \"Infubinol\") |                                                                                      \n",
    "             (mouse_study[\"Drug Regimen\"] == \"Ceftamin\" ) ]                                                                                       \n",
    "               \n",
    "# Start by getting the last (greatest) timepoint for each mouse\n",
    "#groups by Mouse ID and finds the max value within Timepoint as this is the last timepoint for each mouse\n",
    "last_timepoint = drug_search.groupby([\"Mouse ID\"]).agg({\"Timepoint\" : \"max\"})\n",
    "\n",
    "# Merge this group df with the original dataframe to get the tumor volume at the last timepoint\n",
    "#merges the \n",
    "tumor_final = pd.merge(drug_search, last_timepoint, on = \"Mouse ID\", how = \"outer\")\n",
    "\n",
    "#creates a new column which minuses the last time point by the value in the original timepoint column\n",
    "#this is done to the find the value that is zero which then I can filter by 0 to find the final tumor volume for each mouse\n",
    "tumor_final[\"TimepointFinal\"] = tumor_final[\"Timepoint_y\"] - tumor_final[\"Timepoint_x\"] \n",
    "tumor_final_df = tumor_final.loc[tumor_final[\"TimepointFinal\"] == 0]\n",
    "\n",
    "#displays the now filtered dataframe to verify it has the last tumor volumes\n",
    "tumor_final_df[[\"Mouse ID\", \"Drug Regimen\", \"Tumor Volume (mm3)\", \"Timepoint_x\"]]"
   ]
  },
  {
   "cell_type": "code",
   "execution_count": 20,
   "metadata": {},
   "outputs": [
    {
     "name": "stdout",
     "output_type": "stream",
     "text": [
      "Ramicane\n",
      "The lower quartile of Ramicane is: 31.56046955\n",
      "The upper quartile of Ramicane is: 40.65900627\n",
      "The interquartile range of Ramicane is: 9.098536719999998\n",
      "The the median of Ramicane is: 36.56165229 \n",
      "-------------------\n",
      "Values below 17.912664470000003 could be outliers for Ramicane.\n",
      "Values above 54.30681135 could be outliers for Ramicane.\n",
      "-------------------\n",
      "Capomulin\n",
      "The lower quartile of Capomulin is: 32.37735684\n",
      "The upper quartile of Capomulin is: 40.1592203\n",
      "The interquartile range of Capomulin is: 7.781863460000004\n",
      "The the median of Capomulin is: 38.125164399999996 \n",
      "-------------------\n",
      "Values below 20.70456164999999 could be outliers for Capomulin.\n",
      "Values above 51.83201549 could be outliers for Capomulin.\n",
      "-------------------\n",
      "Infubinol\n",
      "The lower quartile of Infubinol is: 54.04860769\n",
      "The upper quartile of Infubinol is: 65.52574285\n",
      "The interquartile range of Infubinol is: 11.477135160000003\n",
      "The the median of Infubinol is: 60.16518046 \n",
      "-------------------\n",
      "Values below 36.83290494999999 could be outliers for Infubinol.\n",
      "Values above 82.74144559000001 could be outliers for Infubinol.\n",
      "36.321345799999996 is a lower bound outlier\n",
      "    Mouse ID Drug Regimen     Sex  Age_months  Weight (g)  Timepoint_x  \\\n",
      "526     c326    Infubinol  Female          18          25            5   \n",
      "\n",
      "     Tumor Volume (mm3)  Metastatic Sites  Timepoint_y  TimepointFinal  \n",
      "526           36.321346                 0            5               0  \n",
      "-------------------\n",
      "Ceftamin\n",
      "The lower quartile of Ceftamin is: 48.72207785\n",
      "The upper quartile of Ceftamin is: 64.29983003\n",
      "The interquartile range of Ceftamin is: 15.577752179999997\n",
      "The the median of Ceftamin is: 59.85195552 \n",
      "-------------------\n",
      "Values below 25.355449580000002 could be outliers for Ceftamin.\n",
      "Values above 87.66645829999999 could be outliers for Ceftamin.\n",
      "-------------------\n"
     ]
    },
    {
     "data": {
      "image/png": "[encoded data removed]",
      "text/plain": [
       "<Figure size 432x288 with 1 Axes>"
      ]
     },
     "metadata": {
      "needs_background": "light"
     },
     "output_type": "display_data"
    }
   ],
   "source": [
    "# Put treatments into a list for for loop (and later for plot labels)\n",
    "treatments = tumor_final_df[\"Drug Regimen\"].unique()\n",
    "\n",
    "treatments\n",
    "\n",
    "# Create empty list to fill with tumor vol data (for plotting)\n",
    "\n",
    "tumor_data = []\n",
    "plot_data = []\n",
    "\n",
    "\n",
    "# Calculate the IQR and quantitatively determine if there are any potential outliers.\n",
    "# Locate the rows which contain mice on each drug and get the tumor volumes\n",
    "\n",
    "#use of for loop to use the values in treatments to filter the data and use the Tumor Volumes to determine the outliers\n",
    "for x in treatments:\n",
    "#uses the values in treatments to filter the list    \n",
    "    d_filter = tumor_final_df[(tumor_final_df[\"Drug Regimen\"] == x)]\n",
    "#creates list from the tumor volume data\n",
    "    tumor_data = d_filter[\"Tumor Volume (mm3)\"]\n",
    "#saves this into another list to be able to plot all graphs on the same plot\n",
    "    plot_data.append(tumor_data)\n",
    "    #print(plot_data)\n",
    "#sets the quantiles\n",
    "    quartiles = tumor_data.quantile([.25,.5,.75])\n",
    "#finds lower quantile\n",
    "    lowerq = quartiles[0.25]\n",
    "#finds upper quantile\n",
    "    upperq = quartiles[0.75]\n",
    "#finds the interquartile range    \n",
    "    iqr = upperq - lowerq\n",
    "# Calculate the IQR and quantitatively determine if there are any potential outliers.\n",
    "    print(f\"{x}\")\n",
    "# Calculate the IQR and quantitatively determine if there are any potential outliers.    \n",
    "    print(f\"The lower quartile of {x} is: {lowerq}\")\n",
    "    print(f\"The upper quartile of {x} is: {upperq}\")\n",
    "    print(f\"The interquartile range of {x} is: {iqr}\")\n",
    "    print(f\"The the median of {x} is: {quartiles[0.5]} \")\n",
    "    print(\"-------------------\")\n",
    "#determines the lower and upper bounds using the lower and upper quantile and iqr\n",
    "    lower_bound = lowerq - (1.5*iqr)\n",
    "    upper_bound = upperq + (1.5*iqr)\n",
    "\n",
    "# Determine outliers using upper and lower bounds\n",
    "    print(f\"Values below {lower_bound} could be outliers for {x}.\")\n",
    "    print(f\"Values above {upper_bound} could be outliers for {x}.\")    \n",
    "    \n",
    "#another for loop to loop through the tumor volume data and determine if any fall outside the lower and upper bounds. \n",
    "#if there is any, it will print the row from the dataframe          \n",
    "    for y in tumor_data:\n",
    "        if y < lower_bound:\n",
    "            print(f\"{y} is a lower bound outlier\")       \n",
    "            print(tumor_final_df.loc[tumor_final_df[\"Tumor Volume (mm3)\"] == y]) \n",
    "           \n",
    "        if y > upper_bound:\n",
    "            print(f\"{y} is a higher bound outlier\")\n",
    "            print(tumor_final_df.loc[tumor_final_df[\"Tumor Volume (mm3)\"] == y]) \n",
    "\n",
    "    print(\"-------------------\")\n",
    "\n",
    "#plots each of the boxplots from the plot_data list created above druing the loop\n",
    "fig1, ax1 = plt.subplots()\n",
    "ax1.boxplot(plot_data)\n",
    "\n",
    "#sets the x labels using the names from the treatments list\n",
    "plt.xticks([1,2,3,4], treatments, rotation = 45)\n",
    "#sets the title and y label\n",
    "ax1.set_title(\"Drug Regimen and Tumor Volume\")\n",
    "ax1.set_ylabel(\"Tumor Volume (mm3)\")\n",
    "plt.show(block = True)\n"
   ]
  },
  {
   "cell_type": "markdown",
   "metadata": {},
   "source": [
    "## Line and Scatter Plots"
   ]
  },
  {
   "cell_type": "code",
   "execution_count": 21,
   "metadata": {},
   "outputs": [
    {
     "data": {
      "text/plain": [
       "Text(0.5, 1.0, 'Timepoint vs Tumor Volume for Mouse ID: s185')"
      ]
     },
     "execution_count": 21,
     "metadata": {},
     "output_type": "execute_result"
    },
    {
     "data": {
      "image/png": "[encoded data removed]",
      "text/plain": [
       "<Figure size 432x288 with 1 Axes>"
      ]
     },
     "metadata": {
      "needs_background": "light"
     },
     "output_type": "display_data"
    }
   ],
   "source": [
    "# Generate a line plot of time point versus tumor volume for a mouse treated with Capomulin\n",
    "\n",
    "#filters for the drug capomulin\n",
    "capomulin = mouse_study_clean[(mouse_study_clean[\"Drug Regimen\"] == \"Capomulin\") ]\n",
    "\n",
    "#filters for a particlar mouse in this case s185\n",
    "\n",
    "mouse1 = capomulin[(capomulin[\"Mouse ID\"] == \"s185\") ]\n",
    "\n",
    "#sets the y and x axis \n",
    "x_axis = mouse1[\"Timepoint\"]\n",
    "y_axis = mouse1[\"Tumor Volume (mm3)\"]\n",
    "\n",
    "#plots the line graph using the x and y axis designated\n",
    "plt.plot(x_axis, y_axis, color = \"red\")\n",
    "\n",
    "#sets the x and y label and the title\n",
    "plt.xlabel('Timepoint')\n",
    "plt.ylabel('Tumor Volume (mm3)')\n",
    "plt.title(\"Timepoint vs Tumor Volume for Mouse ID: s185\")"
   ]
  },
  {
   "cell_type": "code",
   "execution_count": 22,
   "metadata": {},
   "outputs": [
    {
     "data": {
      "image/png": "[encoded data removed]",
      "text/plain": [
       "<Figure size 432x288 with 1 Axes>"
      ]
     },
     "metadata": {
      "needs_background": "light"
     },
     "output_type": "display_data"
    }
   ],
   "source": [
    "# Generate a scatter plot of mouse weight versus average tumor volume for the Capomulin regimen\n",
    "\n",
    "#collects from the capomulin filter dataframe only the three columns Mouse ID, Weight and Tumor Volume\n",
    "capomulin_analysis = capomulin[[\"Mouse ID\", \"Weight (g)\", \"Tumor Volume (mm3)\"]]\n",
    "\n",
    "#groups the dataframe by Mouse ID and Weight and finds the mean of the weights\n",
    "capomulin_analysis_group = capomulin_analysis.groupby([\"Mouse ID\", \"Weight (g)\"]).agg({\"Tumor Volume (mm3)\" : \"mean\"}).reset_index()\n",
    "\n",
    "#renames the columns as tumor volume is now the average\n",
    "capomulin_analysis_group.columns = [\"Mouse ID\", \"Weight (g)\", \"Average Tumor Volume (mm3)\"]\n",
    "\n",
    "#sets the x and y values, in this case x is the weight and y is the average tumor volume\n",
    "x_values = capomulin_analysis_group[\"Weight (g)\"]\n",
    "y_values = capomulin_analysis_group[\"Average Tumor Volume (mm3)\"]\n",
    "\n",
    "#plots the scatter plot\n",
    "plt.scatter(x_values, y_values)\n",
    "\n",
    "#sets the x and y label and title\n",
    "plt.xlabel(\"Weight of Mouse (g)\")\n",
    "plt.ylabel(\"Average Tumor Volume (mm3)\")\n",
    "plt.title(\"Weight of Mouse vs Average Tumor Volume\")\n",
    "plt.show()\n"
   ]
  },
  {
   "cell_type": "markdown",
   "metadata": {},
   "source": [
    "## Correlation and Regression"
   ]
  },
  {
   "cell_type": "code",
   "execution_count": 23,
   "metadata": {},
   "outputs": [
    {
     "name": "stdout",
     "output_type": "stream",
     "text": [
      "The correlation between Weight (g) and Average Tumor Volume (mm3) is 0.84\n"
     ]
    },
    {
     "data": {
      "image/png": "[encoded data removed]",
      "text/plain": [
       "<Figure size 432x288 with 1 Axes>"
      ]
     },
     "metadata": {
      "needs_background": "light"
     },
     "output_type": "display_data"
    }
   ],
   "source": [
    "# Calculate the correlation coefficient and linear regression model \n",
    "# for mouse weight and average tumor volume for the Capomulin regimen\n",
    "\n",
    "#sets the x and y values, in this case x is the weight and y is the average tumor volume\n",
    "x_values = capomulin_analysis_group[\"Weight (g)\"]\n",
    "y_values = capomulin_analysis_group[\"Average Tumor Volume (mm3)\"]\n",
    "\n",
    "#calculates the correlation coefficient\n",
    "correlation = st.pearsonr(x_values,y_values)\n",
    "#displays the correlation coefficient\n",
    "print(f\"The correlation between Weight (g) and Average Tumor Volume (mm3) is {round(correlation[0],2)}\")\n",
    "\n",
    "#calculates the linear regression and linear equation\n",
    "(slope, intercept, rvalue, pvalue, stderr) = linregress(x_values, y_values)\n",
    "regress_values = x_values * slope + intercept\n",
    "line_equation = \"y = \" + str(round(slope,2)) + \"x + \" + str(round(intercept,2))\n",
    "\n",
    "#plots the scatter plot\n",
    "plt.scatter(x_values, y_values)\n",
    "\n",
    "#plots the linear regression line\n",
    "plt.plot(x_values, regress_values, \"r-\")\n",
    "\n",
    "#plots the linear equation\n",
    "plt.annotate(line_equation, (22, 36), fontsize=15, color=\"red\")\n",
    "\n",
    "#plots the x and y labels and the title\n",
    "plt.xlabel(\"Weight of Mouse (g)\")\n",
    "plt.ylabel(\"Average Tumor Volume (mm3)\")\n",
    "plt.title(\"Weight of Mouse vs Average Tumor Volume\")\n",
    "plt.show()\n"
   ]
  }
 ],
 "metadata": {
  "anaconda-cloud": {},
  "kernelspec": {
   "display_name": "Python 3",
   "language": "python",
   "name": "python3"
  },
  "language_info": {
   "codemirror_mode": {
    "name": "ipython",
    "version": 3
   },
   "file_extension": ".py",
   "mimetype": "text/x-python",
   "name": "python",
   "nbconvert_exporter": "python",
   "pygments_lexer": "ipython3",
   "version": "3.6.10"
  }
 },
 "nbformat": 4,
 "nbformat_minor": 4
}
